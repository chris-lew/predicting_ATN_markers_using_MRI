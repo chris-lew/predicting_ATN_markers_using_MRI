{
 "cells": [
  {
   "cell_type": "markdown",
   "metadata": {},
   "source": [
    "The purpose of this notebook is to pair MRI and PET scans that were collected within 30d of each other for each patient. The pairs are then separated into the A, T, N markers. These are each then split into a training, validation, and testing set. \n",
    "\n",
    "The data fed into this notebook is not included in the repository and must be aquired from the ADNI database. Some parts of this code may need to be changed to properly process your own data stored in csv files. "
   ]
  },
  {
   "cell_type": "markdown",
   "metadata": {},
   "source": [
    "## Setup"
   ]
  },
  {
   "cell_type": "code",
   "execution_count": null,
   "metadata": {
    "ExecuteTime": {
     "end_time": "2023-01-31T23:19:24.664049Z",
     "start_time": "2023-01-31T23:19:23.822306Z"
    }
   },
   "outputs": [],
   "source": [
    "import os\n",
    "os.environ['MPLCONFIGDIR'] = \"/tmp/matplotlib/graph\"\n",
    "\n",
    "import numpy as np\n",
    "import pandas as pd\n",
    "import matplotlib.pyplot as plt\n",
    "from datetime import datetime\n",
    "from tqdm import tqdm\n",
    "import math\n",
    "from math import ceil, floor\n",
    "import shutil\n",
    "import random"
   ]
  },
  {
   "cell_type": "markdown",
   "metadata": {},
   "source": [
    "## MRI-PET Pairing"
   ]
  },
  {
   "cell_type": "code",
   "execution_count": null,
   "metadata": {
    "ExecuteTime": {
     "end_time": "2023-01-31T23:25:39.498215Z",
     "start_time": "2023-01-31T23:25:39.480997Z"
    }
   },
   "outputs": [],
   "source": [
    "# calculate the difference between two study date\n",
    "def date_diff(date1, date2):\n",
    "    date1 = datetime.strptime(date1, '%m/%d/%Y').date()\n",
    "    date2 = datetime.strptime(date2, '%m/%d/%Y').date()\n",
    "    diff = abs((date1 - date2).days)\n",
    "    return diff\n",
    "\n",
    "# scan the total subject list and output the list of pairs between MRI and PET for each subject\n",
    "def pair(file, time=30):\n",
    "    # read and prepare the data\n",
    "    df_total = pd.read_csv(file)\n",
    "    df_total['Imaging Protocol'] = df_total['Imaging Protocol'].str.replace('Weighting=', '')\n",
    "    df_total['Imaging Protocol'] = df_total['Imaging Protocol'].str.replace('Radiopharmaceutical=', '')\n",
    "    \n",
    "    PET_RADIO = ['18F-AV45', '18F-AV1451', '18F-FDG']\n",
    "    PET_TYPE = ['A', 'T', 'N']\n",
    "    \n",
    "    interval_threshold = time # the threshold for date difference\n",
    "    list_pair = []\n",
    "    num_pair = 0\n",
    "    num_pair_radio = np.zeros(5, dtype=int) # use 5 number to count pairs of 5 PET radios separately\n",
    "    total_subject_id = df_total['Subject ID'].unique()\n",
    "    \n",
    "    for subject_id in tqdm(total_subject_id):\n",
    "        df_subject = df_total.loc[df_total['Subject ID'] == subject_id]\n",
    "        df_subject_mri = df_subject.loc[df_subject['Modality'] == 'MRI']\n",
    "        df_subject_pet = df_subject.loc[df_subject['Modality'] == 'PET']\n",
    "        \n",
    "        list_mri_date = df_subject_mri['Study Date'].unique()\n",
    "        list_pet_date = df_subject_pet['Study Date'].unique()\n",
    "    \n",
    "        for pet_date in list_pet_date:\n",
    "            pet_radio = df_subject_pet.loc[df_subject_pet['Study Date'] == pet_date, ['Imaging Protocol']]\n",
    "            pet_radio = pet_radio.values[0,0]\n",
    "            for mri_date in list_mri_date:\n",
    "                interval = date_diff(pet_date, mri_date)\n",
    "                if interval <= interval_threshold:\n",
    "                    num_pair += 1\n",
    "                    if pet_radio in PET_RADIO:\n",
    "                        if PET_RADIO.index(pet_radio) in range(len(PET_RADIO)):\n",
    "                            num_pair_radio[PET_RADIO.index(pet_radio)] += 1\n",
    "                            pet_type = PET_TYPE[PET_RADIO.index(pet_radio)]\n",
    "                            list_pair.append([subject_id, mri_date, pet_date, pet_type, interval])\n",
    "                        else:\n",
    "                            print('PET type needs to be checked for subject {0} on study day {1}!'.format(subject_id, pet_date))\n",
    "                    \n",
    "    num_A = np.sum(num_pair_radio[0])\n",
    "    num_T = num_pair_radio[1]\n",
    "    num_N = num_pair_radio[2]\n",
    "    print('Interval = {0} days. Found {1} pairs: {2} A, {3} T, {4} N'.format(time, num_pair, num_A, num_T, num_N))\n",
    "    df_pair = pd.DataFrame(list_pair)\n",
    "    df_pair.columns = ['Subject ID', 'MRI Date', 'PET Date', 'PET Type', 'Interval (day)']\n",
    "    \n",
    "    # insert some empty columns in df_pair\n",
    "    df_pair['MRI Image ID (Original)'] = np.nan \n",
    "    #df_pair['MRI Manufacturer'] = np.nan \n",
    "    #df_pair['MRI field strength'] = np.nan \n",
    "    df_pair['PET Image ID (Dynamic)'] = np.nan \n",
    "    df_pair['PET Image ID (Averaged)'] = np.nan \n",
    "    df_pair['PET Image ID (Standardized)'] = np.nan \n",
    "    df_pair['PET Image ID (Uniform)'] = np.nan \n",
    "    df_pair['PET Manufacturer'] = np.nan \n",
    "    #df_pair['PET Radiopharmaceutical'] = np.nan \n",
    "    return df_pair"
   ]
  },
  {
   "cell_type": "code",
   "execution_count": null,
   "metadata": {
    "ExecuteTime": {
     "end_time": "2023-01-31T23:25:54.438497Z",
     "start_time": "2023-01-31T23:25:39.511196Z"
    },
    "scrolled": false
   },
   "outputs": [],
   "source": [
    "# Pairing MRI and PET using specific interval thresholds\n",
    "\n",
    "file = 'csv/original/Total_original_12_25_2020.csv'\n",
    "\n",
    "df_pair = pair(file, time=30)\n",
    "df_pair"
   ]
  },
  {
   "cell_type": "markdown",
   "metadata": {},
   "source": [
    "## Image Matching"
   ]
  },
  {
   "cell_type": "markdown",
   "metadata": {},
   "source": [
    "Change date from 0-start to non-0-start for MRI and PET csv files"
   ]
  },
  {
   "cell_type": "code",
   "execution_count": null,
   "metadata": {
    "ExecuteTime": {
     "end_time": "2023-01-31T23:26:02.933762Z",
     "start_time": "2023-01-31T23:26:02.924905Z"
    }
   },
   "outputs": [],
   "source": [
    "def form_date(file):\n",
    "    df = pd.read_csv(file)\n",
    "    for index, row in tqdm(df.iterrows()):\n",
    "        date = row['Acq Date']\n",
    "        year = date.split(sep='/')[2]\n",
    "        month = date.split(sep='/')[0]\n",
    "        day = date.split(sep='/')[1]\n",
    "        if month[0] == '0':\n",
    "            month = month[1:]\n",
    "        if day[0] == '0':\n",
    "            day = day[1:]\n",
    "        date = month + '/' + day + '/' + year\n",
    "        df.loc[index, ['Acq Date']] = date\n",
    "    df.to_csv(file, index=False)"
   ]
  },
  {
   "cell_type": "code",
   "execution_count": null,
   "metadata": {},
   "outputs": [],
   "source": [
    "form_date('csv/original/MRI_original_1_10_2021.csv')\n",
    "form_date('csv/original/PET_pre-processed_1_16_2021.csv')\n",
    "form_date('csv/original/PET_manufacturer_3_10_2021.csv')"
   ]
  },
  {
   "cell_type": "code",
   "execution_count": null,
   "metadata": {
    "ExecuteTime": {
     "end_time": "2023-01-31T23:26:38.949863Z",
     "start_time": "2023-01-31T23:26:38.936515Z"
    }
   },
   "outputs": [],
   "source": [
    "def match_pet_id(df_pet_, df_pair_):\n",
    "    '''\n",
    "    Scan all collected PET volumes (listed in df_pet_);\n",
    "    If subject id and study date are matched in df_pair_, add image id to df_pair_.\n",
    "    '''\n",
    "    \n",
    "    # sort values by 'Subject', 'Acq Date' and 'Description' in df_pet_\n",
    "    df_pet_.sort_values(by=['Subject', 'Acq Date', 'Description'])\n",
    "    \n",
    "    # change date from 0-start to non-0-start\n",
    "    for index, row in tqdm(df_pet_.iterrows()):\n",
    "        date = row['Acq Date']\n",
    "        n_matched_pet = df_pair_.loc[(df_pair_['Subject ID']==row['Subject']) & (df_pair_['PET Date']==date)].shape[0]\n",
    "        if n_matched_pet > 0: # if subject and study date in df_pair_\n",
    "            if 'Co-registered Dynamic' in row['Description']:\n",
    "                df_pair_.loc[(df_pair_['Subject ID']==row['Subject']) & (df_pair_['PET Date']==date), ['PET Image ID (Dynamic)']] = row['Image Data ID']\n",
    "            elif 'Co-registered, Averaged' in row['Description']:\n",
    "                df_pair_.loc[(df_pair_['Subject ID']==row['Subject']) & (df_pair_['PET Date']==date), ['PET Image ID (Averaged)']] = row['Image Data ID']\n",
    "            elif ('Coreg, Avg, Standardized Image and Voxel Size' in row['Description']) and ('Early' not in row['Description']):\n",
    "                df_pair_.loc[(df_pair_['Subject ID']==row['Subject']) & (df_pair_['PET Date']==date), ['PET Image ID (Standardized)']] = row['Image Data ID']\n",
    "            elif ('Coreg, Avg, Std Img and Vox Siz, Uniform Resolution' in row['Description']) and ('Early' not in row['Description']):\n",
    "                df_pair_.loc[(df_pair_['Subject ID']==row['Subject']) & (df_pair_['PET Date']==date), ['PET Image ID (Uniform)']] = row['Image Data ID']\n",
    "    df_pair_.reset_index(drop=True, inplace=True)"
   ]
  },
  {
   "cell_type": "code",
   "execution_count": null,
   "metadata": {
    "ExecuteTime": {
     "end_time": "2023-01-31T23:28:17.269088Z",
     "start_time": "2023-01-31T23:28:17.185008Z"
    }
   },
   "outputs": [],
   "source": [
    "df_pet = pd.read_csv('csv/original/PET_pre-processed_1_16_2021.csv')"
   ]
  },
  {
   "cell_type": "code",
   "execution_count": null,
   "metadata": {
    "ExecuteTime": {
     "end_time": "2023-01-31T23:28:06.482045Z",
     "start_time": "2023-01-31T23:26:51.121705Z"
    },
    "scrolled": false
   },
   "outputs": [],
   "source": [
    "# Match PET image IDs for df_pair\n",
    "match_pet_id(df_pet, df_pair)\n",
    "df_pair"
   ]
  },
  {
   "cell_type": "code",
   "execution_count": null,
   "metadata": {
    "ExecuteTime": {
     "end_time": "2023-01-31T23:28:58.391792Z",
     "start_time": "2023-01-31T23:28:58.271942Z"
    }
   },
   "outputs": [],
   "source": [
    "df_mri = pd.read_csv('csv/original/MRI_original_1_10_2021.csv')\n",
    "\n",
    "des_list = list(set(df_mri['Description']))\n",
    "for i in range(len(des_list)):\n",
    "    des = des_list[i]\n",
    "    count = df_mri.loc[df_mri['Description']==des].shape[0]\n",
    "    des_list[i] = [des, count]\n",
    "\n",
    "df_mri_des = pd.DataFrame(des_list,columns=['MRI Description', 'count'])\n",
    "df_mri_des.sort_values(by=['count'], ascending=False, inplace=True, ignore_index=True)"
   ]
  },
  {
   "cell_type": "code",
   "execution_count": null,
   "metadata": {
    "ExecuteTime": {
     "end_time": "2023-01-31T23:29:16.285231Z",
     "start_time": "2023-01-31T23:29:16.275041Z"
    }
   },
   "outputs": [],
   "source": [
    "def match_mri_id(df_mri_, df_pair_, desc):\n",
    "    '''\n",
    "    Scan all collected MRI volumes (listed in df_mri_);\n",
    "    If subject id and study date are matched in df_pair_, add image id to df_pair_.\n",
    "    '''\n",
    "    df_mri_desc = df_mri_.loc[df_mri_['Description']==desc]\n",
    "    df_mri_desc.sort_values(by=['Subject', 'Acq Date', 'Description']) # sort values\n",
    "    \n",
    "    for index, row in df_mri_desc.iterrows():\n",
    "        if df_pair_.loc[(df_pair_['Subject ID']==row['Subject']) & (df_pair_['MRI Date']==row['Acq Date'])].shape[0] > 0: # if subject and study date in df_pair_\n",
    "            if df_pair_.loc[(df_pair_['Subject ID']==row['Subject']) & (df_pair_['MRI Date']==row['Acq Date']), ['MRI Image ID (Original)']].isnull().values.any():\n",
    "                df_pair_.loc[(df_pair_['Subject ID']==row['Subject']) & (df_pair_['MRI Date']==row['Acq Date']), ['MRI Image ID (Original)']] = row['Image Data ID']\n",
    "    df_pair_.reset_index(drop=True, inplace=True)"
   ]
  },
  {
   "cell_type": "code",
   "execution_count": null,
   "metadata": {
    "ExecuteTime": {
     "end_time": "2023-01-31T23:29:47.066215Z",
     "start_time": "2023-01-31T23:29:17.412717Z"
    },
    "scrolled": true
   },
   "outputs": [],
   "source": [
    "# match MRI volumes through different Descriptions.\n",
    "\n",
    "for i, r in df_mri_des.iterrows():\n",
    "    des = r['MRI Description']\n",
    "    match_mri_id(df_mri, df_pair, des)"
   ]
  },
  {
   "cell_type": "markdown",
   "metadata": {},
   "source": [
    "## Add PET Manufacturer Info to df_pair"
   ]
  },
  {
   "cell_type": "code",
   "execution_count": null,
   "metadata": {
    "ExecuteTime": {
     "end_time": "2023-01-31T23:30:05.836436Z",
     "start_time": "2023-01-31T23:29:50.053937Z"
    }
   },
   "outputs": [],
   "source": [
    "df_pet_vendor = pd.read_csv('csv/original/PET_manufacturer_3_10_2021.csv')\n",
    "df_pet_vendor.dropna(subset=['Imaging Protocol'], inplace=True)\n",
    "\n",
    "\n",
    "for i, r in tqdm(df_pair.iterrows()):\n",
    "    if df_pair.loc[[i], 'PET Manufacturer'].isnull().values.any():\n",
    "        mfg_info = df_pet_vendor.loc[(df_pet_vendor['Subject ID']==r['Subject ID']) & (df_pet_vendor['Acq Date']==r['PET Date']), ['Imaging Protocol']]\n",
    "        if mfg_info.shape[0]>0:\n",
    "            mfg_info = mfg_info.iat[0,0]\n",
    "            if mfg_info.find('Manufacturer=') != -1:\n",
    "                loc = mfg_info.find('Manufacturer=')+len('Manufacturer=')\n",
    "                df_pair.loc[[i], 'PET Manufacturer'] = mfg_info[loc:]\n",
    "            else:\n",
    "                print('no manufacturer info.')\n",
    "                "
   ]
  },
  {
   "cell_type": "markdown",
   "metadata": {},
   "source": [
    "## Delete rows with NaN and reset index"
   ]
  },
  {
   "cell_type": "code",
   "execution_count": null,
   "metadata": {
    "ExecuteTime": {
     "end_time": "2023-01-31T23:30:13.367532Z",
     "start_time": "2023-01-31T23:30:13.345059Z"
    }
   },
   "outputs": [],
   "source": [
    "df_pair = df_pair[['Subject ID', \n",
    "                   'MRI Date', \n",
    "                   'PET Date', \n",
    "                   'PET Type', \n",
    "                   'Interval (day)', \n",
    "                   'MRI Image ID (Original)', \n",
    "                   'PET Image ID (Standardized)', \n",
    "                   'PET Manufacturer']]\n",
    "\n",
    "df_pair.dropna(inplace=True)\n",
    "df_pair.reset_index(drop=True, inplace=True)\n",
    "df_pair"
   ]
  },
  {
   "cell_type": "markdown",
   "metadata": {},
   "source": [
    "## Shuffle df_pair based on subjects in order to split dataset"
   ]
  },
  {
   "cell_type": "code",
   "execution_count": null,
   "metadata": {
    "ExecuteTime": {
     "end_time": "2023-01-31T23:30:28.198511Z",
     "start_time": "2023-01-31T23:30:25.146434Z"
    }
   },
   "outputs": [],
   "source": [
    "df_pair_shuffle = pd.DataFrame(columns = df_pair.columns) # create an empty DataFrame with the same columns as df_pair\n",
    "subject_list = list(set(df_pair['Subject ID'])) # the list of all subject IDs\n",
    "random.Random(1).shuffle(subject_list)  # use seed to shuffle the list to get the same order every time)\n",
    "\n",
    "for s in tqdm(subject_list):  #for subject in subject_list:\n",
    "    df_subject = df_pair.loc[df_pair['Subject ID']==s]\n",
    "    df_pair_shuffle = df_pair_shuffle.append(df_subject, ignore_index=True)\n",
    "df_pair = df_pair_shuffle\n",
    "df_pair"
   ]
  },
  {
   "cell_type": "markdown",
   "metadata": {},
   "source": [
    "## Split Data into PET_A, PET_T, PET_N"
   ]
  },
  {
   "cell_type": "code",
   "execution_count": null,
   "metadata": {
    "ExecuteTime": {
     "end_time": "2023-01-31T23:31:25.582029Z",
     "start_time": "2023-01-31T23:31:25.570868Z"
    }
   },
   "outputs": [],
   "source": [
    "df_pair_A = df_pair.loc[df_pair['PET Type']=='A']\n",
    "df_pair_A.reset_index(drop=True, inplace=True)\n",
    "\n",
    "df_pair_T = df_pair.loc[df_pair['PET Type']=='T']\n",
    "df_pair_T.reset_index(drop=True, inplace=True)\n",
    "\n",
    "df_pair_N = df_pair.loc[df_pair['PET Type']=='N']\n",
    "df_pair_N.reset_index(drop=True, inplace=True)"
   ]
  },
  {
   "cell_type": "markdown",
   "metadata": {},
   "source": [
    "## Split dataset into training, validation and testing"
   ]
  },
  {
   "cell_type": "code",
   "execution_count": null,
   "metadata": {},
   "outputs": [],
   "source": [
    "# split the dataset based on the table above\n",
    "\n",
    "train_percent = 0.70\n",
    "validation_percent = 0.10\n",
    "test_percent = 0.20\n",
    "\n",
    "A_train_size = int(len(df_pair_A) * train_percent)\n",
    "A_validation_size = int(len(df_pair_A) * validation_percent)\n",
    "\n",
    "A_train = df_pair_A[:A_train_size]\n",
    "A_train.reset_index(drop=True, inplace=True)\n",
    "A_train.to_csv('csv/generated/A_train.csv', index=False)\n",
    "A_val = df_pair_A[A_train_size:A_train_size+A_validation_size]\n",
    "A_val.reset_index(drop=True, inplace=True)\n",
    "A_val.to_csv('csv/generated/A_val.csv', index=False)\n",
    "A_test = df_pair_A[A_train_size+A_validation_size:]\n",
    "A_test.reset_index(drop=True, inplace=True)\n",
    "A_test.to_csv('csv/generated/A_test.csv', index=False)\n",
    "\n",
    "T_train_size = int(len(df_pair_T) * train_percent)\n",
    "T_validation_size = int(len(df_pair_T) * validation_percent)\n",
    "\n",
    "T_train = df_pair_T[:T_train_size]\n",
    "T_train.reset_index(drop=True, inplace=True)\n",
    "T_train.to_csv('csv/generated/T_train.csv', index=False)\n",
    "T_val = df_pair_T[T_train_size:T_train_size+T_validation_size]\n",
    "T_val.reset_index(drop=True, inplace=True)\n",
    "T_val.to_csv('csv/generated/T_val.csv', index=False)\n",
    "T_test = df_pair_T[T_train_size+T_validation_size:]\n",
    "T_test.reset_index(drop=True, inplace=True)\n",
    "T_test.to_csv('csv/generated/T_test.csv', index=False)\n",
    "\n",
    "N_train_size = int(len(df_pair_N) * train_percent)\n",
    "N_validation_size = int(len(df_pair_N) * validation_percent)\n",
    "\n",
    "N_train = df_pair_N[:N_train_size]\n",
    "N_train.reset_index(drop=True, inplace=True)\n",
    "N_train.to_csv('csv/generated/N_train.csv', index=False)\n",
    "N_val = df_pair_N[N_train_size:N_train_size+N_validation_size]\n",
    "N_val.reset_index(drop=True, inplace=True)\n",
    "N_val.to_csv('csv/generated/N_val.csv', index=False)\n",
    "N_test = df_pair_N[N_train_size+N_validation_size:]\n",
    "N_test.reset_index(drop=True, inplace=True)\n",
    "N_test.to_csv('csv/generated/N_test.csv', index=False)"
   ]
  }
 ],
 "metadata": {
  "kernelspec": {
   "display_name": "Python 3",
   "language": "python",
   "name": "python3"
  },
  "language_info": {
   "codemirror_mode": {
    "name": "ipython",
    "version": 3
   },
   "file_extension": ".py",
   "mimetype": "text/x-python",
   "name": "python",
   "nbconvert_exporter": "python",
   "pygments_lexer": "ipython3",
   "version": "3.6.9"
  },
  "toc": {
   "base_numbering": 1,
   "nav_menu": {},
   "number_sections": true,
   "sideBar": true,
   "skip_h1_title": false,
   "title_cell": "Table of Contents",
   "title_sidebar": "Contents",
   "toc_cell": false,
   "toc_position": {},
   "toc_section_display": true,
   "toc_window_display": false
  },
  "toc-autonumbering": false,
  "toc-showcode": false,
  "toc-showmarkdowntxt": false,
  "varInspector": {
   "cols": {
    "lenName": 16,
    "lenType": 16,
    "lenVar": 40
   },
   "kernels_config": {
    "python": {
     "delete_cmd_postfix": "",
     "delete_cmd_prefix": "del ",
     "library": "var_list.py",
     "varRefreshCmd": "print(var_dic_list())"
    },
    "r": {
     "delete_cmd_postfix": ") ",
     "delete_cmd_prefix": "rm(",
     "library": "var_list.r",
     "varRefreshCmd": "cat(var_dic_list()) "
    }
   },
   "types_to_exclude": [
    "module",
    "function",
    "builtin_function_or_method",
    "instance",
    "_Feature"
   ],
   "window_display": false
  }
 },
 "nbformat": 4,
 "nbformat_minor": 4
}
