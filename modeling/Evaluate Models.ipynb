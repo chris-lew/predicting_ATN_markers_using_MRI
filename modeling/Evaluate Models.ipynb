{
 "cells": [
  {
   "cell_type": "code",
   "execution_count": 1,
   "id": "c1e56760",
   "metadata": {
    "ExecuteTime": {
     "end_time": "2022-07-18T23:50:19.696509Z",
     "start_time": "2022-07-18T23:50:19.681833Z"
    }
   },
   "outputs": [],
   "source": [
    "%load_ext autoreload\n",
    "%autoreload 2"
   ]
  },
  {
   "cell_type": "code",
   "execution_count": 2,
   "id": "ccb045f6",
   "metadata": {
    "ExecuteTime": {
     "end_time": "2022-07-18T23:50:22.137842Z",
     "start_time": "2022-07-18T23:50:19.698800Z"
    }
   },
   "outputs": [],
   "source": [
    "import tensorflow as tf\n",
    "from tensorflow import keras\n",
    "import covariate_models\n",
    "import pandas as pd\n",
    "import numpy as np\n",
    "import os\n",
    "from experiments_covariate import experiment_dict\n",
    "from pathlib import Path\n",
    "\n",
    "os.environ['CUDA_VISIBLE_DEVICES'] = '-1'\n",
    "\n",
    "import model_utils\n",
    "\n",
    "from sklearn.metrics import r2_score\n",
    "\n",
    "from build_datasets_covariate import *\n",
    "\n",
    "from keras import backend as K "
   ]
  },
  {
   "cell_type": "markdown",
   "id": "bbd09057",
   "metadata": {},
   "source": [
    "## Setting Up Functions & Model"
   ]
  },
  {
   "cell_type": "code",
   "execution_count": 3,
   "id": "8c526280",
   "metadata": {
    "ExecuteTime": {
     "end_time": "2022-07-18T23:50:22.171679Z",
     "start_time": "2022-07-18T23:50:22.140095Z"
    }
   },
   "outputs": [],
   "source": [
    "def assess_model(\n",
    "    exp_name,\n",
    "    model,\n",
    "    validation_dataset,\n",
    "    metrics\n",
    "):\n",
    "    print('-----------------------')\n",
    "    \n",
    "\n",
    "    model_history = np.load('../data/saved_models_v2/{}_history.npy'.format(exp_name), allow_pickle=True)\n",
    "    model_utils.training_metrics_np_object(model_history, metrics[0])\n",
    "\n",
    "    saved_model = '../data/saved_models_v2/{}.h5'.format(exp_name)\n",
    "\n",
    "    model.load_weights(saved_model)    \n",
    "    metric_values = model.evaluate(validation_dataset, verbose=2)\n",
    "    \n",
    "    preds = model.predict(validation_dataset)\n",
    "    \n",
    "    return preds\n"
   ]
  },
  {
   "cell_type": "code",
   "execution_count": 4,
   "id": "763ae96e",
   "metadata": {
    "ExecuteTime": {
     "end_time": "2022-07-18T23:50:22.205708Z",
     "start_time": "2022-07-18T23:50:22.173791Z"
    }
   },
   "outputs": [],
   "source": [
    "def assess_model_no_history(\n",
    "    exp_name,\n",
    "    model,\n",
    "    validation_dataset,\n",
    "    metrics\n",
    "):\n",
    "    print('-----------------------')\n",
    "    \n",
    "    saved_model = '../data/saved_models_v2/{}.h5'.format(exp_name)\n",
    "\n",
    "    model.load_weights(saved_model)    \n",
    "    metric_values = model.evaluate(validation_dataset, verbose=2)\n",
    "    \n",
    "    preds = model.predict(validation_dataset)\n",
    "    \n",
    "    return preds"
   ]
  },
  {
   "cell_type": "code",
   "execution_count": 5,
   "id": "28cdff14",
   "metadata": {
    "ExecuteTime": {
     "end_time": "2022-07-18T23:50:22.242475Z",
     "start_time": "2022-07-18T23:50:22.207338Z"
    }
   },
   "outputs": [],
   "source": [
    "from sklearn.metrics import roc_auc_score, accuracy_score, confusion_matrix\n",
    "\n",
    "def get_stats(\n",
    "    exp_name,\n",
    "    model,\n",
    "    validation_dataset,\n",
    "    metrics\n",
    "):\n",
    "    \n",
    "    print('-----------------------')\n",
    "    \n",
    "    saved_model = '../data/saved_models_v2/{}.h5'.format(exp_name)\n",
    "\n",
    "    model.load_weights(saved_model)        \n",
    "    preds = model.predict(validation_dataset)\n",
    "    \n",
    "    labels = np.concatenate([x for _, x in validation_dataset])\n",
    "    preds = preds.flatten()\n",
    "    binary_preds = (preds > 0.5).astype(int)\n",
    "    \n",
    "    print('AUC:', roc_auc_score(labels, preds))\n",
    "    print('Acc:', accuracy_score(labels, binary_preds))\n",
    "    \n",
    "    tn, fp, fn, tp = confusion_matrix(labels, binary_preds).ravel()\n",
    "    \n",
    "    ppv = tp / (tp + fp)\n",
    "    npv = tn / (tn + fn)\n",
    "    sens = tp / (tp + fn)\n",
    "    spec = tn / (fp + tn)\n",
    "    \n",
    "    print('PPV:', ppv)\n",
    "    print('NPV:', npv)\n",
    "    print('Sens:', sens)\n",
    "    print('Spec:', spec)"
   ]
  },
  {
   "cell_type": "code",
   "execution_count": 6,
   "id": "d322df98",
   "metadata": {
    "ExecuteTime": {
     "end_time": "2022-07-18T23:50:22.271292Z",
     "start_time": "2022-07-18T23:50:22.244055Z"
    }
   },
   "outputs": [],
   "source": [
    "metrics=['binary_accuracy', 'AUC']\n",
    "random_rotate_angles = []\n",
    "\n",
    "batch_size = 1"
   ]
  },
  {
   "cell_type": "markdown",
   "id": "30b5e140",
   "metadata": {},
   "source": [
    "## Evaluate Image + Covariate Models"
   ]
  },
  {
   "cell_type": "code",
   "execution_count": 8,
   "id": "0abebb46",
   "metadata": {
    "ExecuteTime": {
     "end_time": "2022-07-18T23:54:06.518867Z",
     "start_time": "2022-07-18T23:52:42.071016Z"
    }
   },
   "outputs": [
    {
     "name": "stdout",
     "output_type": "stream",
     "text": [
      "-----------------------\n",
      "AUC: 0.7418511066398391\n",
      "Acc: 0.6312056737588653\n",
      "PPV: 0.6338028169014085\n",
      "NPV: 0.6285714285714286\n",
      "Sens: 0.6338028169014085\n",
      "Spec: 0.6285714285714286\n",
      "-----------------------\n",
      "AUC: 0.8289473684210527\n",
      "Acc: 0.875\n",
      "PPV: 0.8809523809523809\n",
      "NPV: 0.8333333333333334\n",
      "Sens: 0.9736842105263158\n",
      "Spec: 0.5\n",
      "-----------------------\n",
      "AUC: 0.8404195011337868\n",
      "Acc: 0.7428571428571429\n",
      "PPV: 0.734375\n",
      "NPV: 0.7465753424657534\n",
      "Sens: 0.5595238095238095\n",
      "Spec: 0.8650793650793651\n"
     ]
    }
   ],
   "source": [
    "for t in ['A', 'T', 'N']:\n",
    "\n",
    "    val_gen = DataGenerator_Gaussian_Labels(\n",
    "        target = '{}_val'.format(t), \n",
    "        batch_size = batch_size, \n",
    "        dim = (182, 182, 218), \n",
    "        shuffle = False,\n",
    "        use_random_rotate = False,\n",
    "        random_rotate_angles = random_rotate_angles\n",
    "    )\n",
    "    \n",
    "    network = covariate_models.AD_classifier_plus_tuning(\n",
    "        width=182, height=182, depth=218,\n",
    "        dropout=0.5,\n",
    "        image_features=100) \n",
    "    network.compile(\n",
    "        loss=tf.keras.losses.binary_crossentropy, \n",
    "        metrics=metrics\n",
    "    )\n",
    "    \n",
    "    get_stats(\n",
    "        '{}_classifier_182p_tuned_gaussian_labels_param'.format(t), \n",
    "        network, \n",
    "        val_gen,\n",
    "        metrics\n",
    "    )\n",
    "    \n",
    "    K.clear_session()"
   ]
  },
  {
   "cell_type": "markdown",
   "id": "31d80ac4",
   "metadata": {},
   "source": [
    "## Evaluate Image Only Models"
   ]
  },
  {
   "cell_type": "code",
   "execution_count": 10,
   "id": "230d5df5",
   "metadata": {
    "ExecuteTime": {
     "end_time": "2022-07-18T23:57:50.857871Z",
     "start_time": "2022-07-18T23:56:28.036819Z"
    }
   },
   "outputs": [
    {
     "name": "stdout",
     "output_type": "stream",
     "text": [
      "-----------------------\n",
      "AUC: 0.6257545271629779\n",
      "Acc: 0.624113475177305\n",
      "PPV: 0.6046511627906976\n",
      "NPV: 0.6545454545454545\n",
      "Sens: 0.7323943661971831\n",
      "Spec: 0.5142857142857142\n",
      "-----------------------\n",
      "AUC: 0.7605263157894737\n",
      "Acc: 0.8541666666666666\n",
      "PPV: 0.8444444444444444\n",
      "NPV: 1.0\n",
      "Sens: 1.0\n",
      "Spec: 0.3\n",
      "-----------------------\n",
      "AUC: 0.8109410430839002\n",
      "Acc: 0.7476190476190476\n",
      "PPV: 0.6867469879518072\n",
      "NPV: 0.7874015748031497\n",
      "Sens: 0.6785714285714286\n",
      "Spec: 0.7936507936507936\n"
     ]
    }
   ],
   "source": [
    "for t in ['A', 'T', 'N']:\n",
    "\n",
    "    val_gen = DataGenerator_Gaussian_Labels_Image_Only(\n",
    "        target = '{}_val'.format(t), \n",
    "        batch_size = batch_size, \n",
    "        dim = (182, 182, 218), \n",
    "        shuffle = False,\n",
    "        use_random_rotate = False,\n",
    "        random_rotate_angles = random_rotate_angles\n",
    "    )\n",
    "    \n",
    "    network = covariate_models.AD_classifier_plus_tuning_img_only(\n",
    "        width=182, height=182, depth=218,\n",
    "        dropout=0.5,\n",
    "        image_features=100\n",
    "    ) \n",
    "    \n",
    "    network.compile(\n",
    "        loss=tf.keras.losses.binary_crossentropy, \n",
    "        metrics=metrics\n",
    "    )\n",
    "    \n",
    "    get_stats(\n",
    "        '{}_classifier_182p_tuned_gaussian_labeled_img_only'.format(t), \n",
    "        network, \n",
    "        val_gen,\n",
    "        metrics\n",
    "    )\n",
    "    \n",
    "    K.clear_session()"
   ]
  },
  {
   "cell_type": "markdown",
   "id": "7c1897fe",
   "metadata": {},
   "source": [
    "## Test Set"
   ]
  },
  {
   "cell_type": "code",
   "execution_count": 11,
   "id": "f7a16995",
   "metadata": {
    "ExecuteTime": {
     "end_time": "2022-07-19T00:03:31.810101Z",
     "start_time": "2022-07-18T23:57:50.859895Z"
    }
   },
   "outputs": [
    {
     "name": "stdout",
     "output_type": "stream",
     "text": [
      "-----------------------\n",
      "376/376 - 65s - loss: 0.5484 - binary_accuracy: 0.7128 - auc: 0.7882\n",
      "-----------------------\n",
      "107/107 - 19s - loss: 0.3381 - binary_accuracy: 0.8879 - auc: 0.7300\n",
      "-----------------------\n",
      "512/512 - 87s - loss: 0.4617 - binary_accuracy: 0.7539 - auc: 0.8567\n"
     ]
    }
   ],
   "source": [
    "for t in ['A', 'T', 'N']:\n",
    "\n",
    "    test_gen = DataGenerator_Gaussian_Labels(\n",
    "        target = '{}_test'.format(t), \n",
    "        batch_size = batch_size, \n",
    "        dim = (182, 182, 218), \n",
    "        shuffle = True,\n",
    "        use_random_rotate = False,\n",
    "        random_rotate_angles = random_rotate_angles\n",
    "    )\n",
    "    \n",
    "    network = covariate_models.AD_classifier_plus_tuning(\n",
    "        width=182, height=182, depth=218,\n",
    "        dropout=0.5,\n",
    "        image_features=100) \n",
    "    network.compile(\n",
    "        loss=tf.keras.losses.binary_crossentropy, \n",
    "        metrics=metrics\n",
    "    )\n",
    "    \n",
    "    assess_model_no_history(\n",
    "        '{}_classifier_182p_tuned_gaussian_labels_param'.format(t), \n",
    "        network, \n",
    "        test_gen,\n",
    "        metrics\n",
    "    )\n",
    "    \n",
    "    K.clear_session()"
   ]
  },
  {
   "cell_type": "code",
   "execution_count": 12,
   "id": "cc09c57b",
   "metadata": {
    "ExecuteTime": {
     "end_time": "2022-07-19T00:06:52.655523Z",
     "start_time": "2022-07-19T00:03:31.812940Z"
    }
   },
   "outputs": [
    {
     "name": "stdout",
     "output_type": "stream",
     "text": [
      "-----------------------\n",
      "AUC: 0.7884461924304605\n",
      "Acc: 0.7127659574468085\n",
      "PPV: 0.7162162162162162\n",
      "NPV: 0.7077922077922078\n",
      "Sens: 0.7794117647058824\n",
      "Spec: 0.6337209302325582\n",
      "-----------------------\n",
      "AUC: 0.7291325695581015\n",
      "Acc: 0.8878504672897196\n",
      "PPV: 0.91\n",
      "NPV: 0.5714285714285714\n",
      "Sens: 0.9680851063829787\n",
      "Spec: 0.3076923076923077\n",
      "-----------------------\n",
      "AUC: 0.8566117316254003\n",
      "Acc: 0.75390625\n",
      "PPV: 0.6936170212765957\n",
      "NPV: 0.8050541516245487\n",
      "Sens: 0.7511520737327189\n",
      "Spec: 0.7559322033898305\n"
     ]
    }
   ],
   "source": [
    "for t in ['A', 'T', 'N']:\n",
    "\n",
    "    test_gen = DataGenerator_Gaussian_Labels(\n",
    "        target = '{}_test'.format(t), \n",
    "        batch_size = batch_size, \n",
    "        dim = (182, 182, 218), \n",
    "        shuffle = False,\n",
    "        use_random_rotate = False,\n",
    "        random_rotate_angles = random_rotate_angles\n",
    "    )\n",
    "    \n",
    "    network = covariate_models.AD_classifier_plus_tuning(\n",
    "        width=182, height=182, depth=218,\n",
    "        dropout=0.5,\n",
    "        image_features=100) \n",
    "    network.compile(\n",
    "        loss=tf.keras.losses.binary_crossentropy, \n",
    "        metrics=metrics\n",
    "    )\n",
    "    \n",
    "    get_stats(\n",
    "        '{}_classifier_182p_tuned_gaussian_labels_param'.format(t), \n",
    "        network, \n",
    "        test_gen,\n",
    "        metrics\n",
    "    )\n",
    "    \n",
    "    K.clear_session()"
   ]
  },
  {
   "cell_type": "code",
   "execution_count": 14,
   "id": "f7d9856a",
   "metadata": {
    "ExecuteTime": {
     "end_time": "2022-07-19T00:15:51.000621Z",
     "start_time": "2022-07-19T00:12:32.466471Z"
    }
   },
   "outputs": [
    {
     "name": "stdout",
     "output_type": "stream",
     "text": [
      "-----------------------\n",
      "AUC: 0.7331566347469219\n",
      "Acc: 0.6622340425531915\n",
      "PPV: 0.6558704453441295\n",
      "NPV: 0.6744186046511628\n",
      "Sens: 0.7941176470588235\n",
      "Spec: 0.5058139534883721\n",
      "-----------------------\n",
      "AUC: 0.8011456628477904\n",
      "Acc: 0.8691588785046729\n",
      "PPV: 0.8921568627450981\n",
      "NPV: 0.4\n",
      "Sens: 0.9680851063829787\n",
      "Spec: 0.15384615384615385\n",
      "-----------------------\n",
      "AUC: 0.8498164492697022\n",
      "Acc: 0.7578125\n",
      "PPV: 0.6882591093117408\n",
      "NPV: 0.8226415094339623\n",
      "Sens: 0.783410138248848\n",
      "Spec: 0.7389830508474576\n"
     ]
    }
   ],
   "source": [
    "for t in ['A', 'T', 'N']:\n",
    "\n",
    "    test_gen = DataGenerator_Gaussian_Labels_Image_Only(\n",
    "        target = '{}_test'.format(t), \n",
    "        batch_size = batch_size, \n",
    "        dim = (182, 182, 218), \n",
    "        shuffle = False,\n",
    "        use_random_rotate = False,\n",
    "        random_rotate_angles = random_rotate_angles\n",
    "    )\n",
    "    \n",
    "    network = covariate_models.AD_classifier_plus_tuning_img_only(\n",
    "        width=182, height=182, depth=218,\n",
    "        dropout=0.5,\n",
    "        image_features=100) \n",
    "    network.compile(\n",
    "        loss=tf.keras.losses.binary_crossentropy, \n",
    "        metrics=metrics\n",
    "    )\n",
    "    \n",
    "    get_stats(\n",
    "        '{}_classifier_182p_tuned_gaussian_labeled_img_only'.format(t), \n",
    "        network, \n",
    "        test_gen,\n",
    "        metrics\n",
    "    )\n",
    "    \n",
    "    K.clear_session()"
   ]
  }
 ],
 "metadata": {
  "kernelspec": {
   "display_name": "Python 3",
   "language": "python",
   "name": "python3"
  },
  "language_info": {
   "codemirror_mode": {
    "name": "ipython",
    "version": 3
   },
   "file_extension": ".py",
   "mimetype": "text/x-python",
   "name": "python",
   "nbconvert_exporter": "python",
   "pygments_lexer": "ipython3",
   "version": "3.6.9"
  },
  "toc": {
   "base_numbering": 1,
   "nav_menu": {},
   "number_sections": true,
   "sideBar": true,
   "skip_h1_title": false,
   "title_cell": "Table of Contents",
   "title_sidebar": "Contents",
   "toc_cell": false,
   "toc_position": {},
   "toc_section_display": true,
   "toc_window_display": false
  },
  "varInspector": {
   "cols": {
    "lenName": 16,
    "lenType": 16,
    "lenVar": 40
   },
   "kernels_config": {
    "python": {
     "delete_cmd_postfix": "",
     "delete_cmd_prefix": "del ",
     "library": "var_list.py",
     "varRefreshCmd": "print(var_dic_list())"
    },
    "r": {
     "delete_cmd_postfix": ") ",
     "delete_cmd_prefix": "rm(",
     "library": "var_list.r",
     "varRefreshCmd": "cat(var_dic_list()) "
    }
   },
   "types_to_exclude": [
    "module",
    "function",
    "builtin_function_or_method",
    "instance",
    "_Feature"
   ],
   "window_display": false
  }
 },
 "nbformat": 4,
 "nbformat_minor": 5
}
