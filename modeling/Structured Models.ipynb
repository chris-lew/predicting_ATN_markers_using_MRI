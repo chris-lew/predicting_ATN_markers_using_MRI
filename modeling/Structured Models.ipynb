{
 "cells": [
  {
   "cell_type": "code",
   "execution_count": 7,
   "id": "3e7c1d3f",
   "metadata": {
    "ExecuteTime": {
     "end_time": "2022-07-13T18:16:17.424099Z",
     "start_time": "2022-07-13T18:16:17.418600Z"
    }
   },
   "outputs": [],
   "source": [
    "import pandas as pd\n",
    "import numpy as np\n",
    "import os\n",
    "\n",
    "from sklearn.metrics import roc_auc_score, accuracy_score, confusion_matrix\n",
    "from sklearn.linear_model import LogisticRegression"
   ]
  },
  {
   "cell_type": "code",
   "execution_count": 2,
   "id": "723589ea",
   "metadata": {
    "ExecuteTime": {
     "end_time": "2022-07-13T18:14:39.052015Z",
     "start_time": "2022-07-13T18:14:39.049588Z"
    }
   },
   "outputs": [],
   "source": [
    "csv_dir = '../csv'"
   ]
  },
  {
   "cell_type": "code",
   "execution_count": 5,
   "id": "28132ae1",
   "metadata": {
    "ExecuteTime": {
     "end_time": "2022-07-13T18:15:32.934816Z",
     "start_time": "2022-07-13T18:15:32.925949Z"
    }
   },
   "outputs": [],
   "source": [
    "def get_stats(labels, preds):    \n",
    "    preds = preds.flatten()\n",
    "    binary_preds = (preds > 0.5).astype(int)\n",
    "    \n",
    "    print('AUC:', roc_auc_score(labels, preds))\n",
    "    print('Acc:', accuracy_score(labels, binary_preds))\n",
    "    \n",
    "    tn, fp, fn, tp = confusion_matrix(labels, binary_preds).ravel()\n",
    "    \n",
    "    ppv = tp / (tp + fp)\n",
    "    npv = tn / (tn + fn)\n",
    "    sens = tp / (tp + fn)\n",
    "    spec = tn / (fp + tn)\n",
    "    \n",
    "    print('PPV:', ppv)\n",
    "    print('NPV:', npv)\n",
    "    print('Sens:', sens)\n",
    "    print('Spec:', spec)"
   ]
  },
  {
   "cell_type": "markdown",
   "id": "e1cdba3b",
   "metadata": {},
   "source": [
    "## Biomarkers"
   ]
  },
  {
   "cell_type": "code",
   "execution_count": 3,
   "id": "ea637228",
   "metadata": {
    "ExecuteTime": {
     "end_time": "2022-07-13T18:14:40.610271Z",
     "start_time": "2022-07-13T18:14:40.605622Z"
    }
   },
   "outputs": [],
   "source": [
    "biomarker_cols = [\n",
    "    'Age',\n",
    "    'Sex_F', \n",
    "    'Sex_M',\n",
    "    'APOE A1_2', \n",
    "    'APOE A1_3', \n",
    "    'APOE A1_4', \n",
    "    'APOE A2_2',\n",
    "    'APOE A2_3', \n",
    "    'APOE A2_4', \n",
    "    'LEFT_HIPPOCAMPUS_VOLUME',\n",
    "    'RIGHT_HIPPOCAMPUS_VOLUME', \n",
    "    'MMSE Total Score',\n",
    "    'ADAS13',\n",
    "    'AD', \n",
    "    'CN', \n",
    "    'EMCI', \n",
    "    'LMCI', \n",
    "    'MCI',\n",
    "    'SMC'\n",
    "]"
   ]
  },
  {
   "cell_type": "markdown",
   "id": "5cfea5e7",
   "metadata": {},
   "source": [
    "## Biomarkers w/ gaussian labels"
   ]
  },
  {
   "cell_type": "code",
   "execution_count": 13,
   "id": "427a40ec",
   "metadata": {
    "ExecuteTime": {
     "end_time": "2022-07-18T22:16:20.645825Z",
     "start_time": "2022-07-18T22:16:20.507573Z"
    }
   },
   "outputs": [
    {
     "name": "stdout",
     "output_type": "stream",
     "text": [
      "Amyloid Class\n",
      "AUC: 0.6737424547283702\n",
      "Acc: 0.6737588652482269\n",
      "PPV: 0.676056338028169\n",
      "NPV: 0.6714285714285714\n",
      "Sens: 0.676056338028169\n",
      "Spec: 0.6714285714285714\n",
      "-----------\n",
      "AUC: 0.712999548430797\n",
      "Acc: 0.7222222222222222\n",
      "PPV: 0.7148936170212766\n",
      "NPV: 0.7342657342657343\n",
      "Sens: 0.8155339805825242\n",
      "Spec: 0.6104651162790697\n"
     ]
    }
   ],
   "source": [
    "# Amyloid\n",
    "\n",
    "train_df = pd.read_csv(csv_dir + '/generated/A_train_complete_updated_gaussian.csv')\n",
    "val_df = pd.read_csv(csv_dir + '/generated/A_val_complete_updated_gaussian.csv')\n",
    "test_df = pd.read_csv(csv_dir + '/generated/A_test_complete_updated_gaussian.csv')\n",
    "\n",
    "train_features = np.array(train_df.loc[:, biomarker_cols])\n",
    "val_features = np.array(val_df.loc[:, biomarker_cols])\n",
    "test_features = np.array(test_df.loc[:, biomarker_cols])\n",
    "\n",
    "train_output = np.array(train_df['A_GAUSSIAN_CLS']).astype(int)\n",
    "val_output = np.array(val_df['A_GAUSSIAN_CLS']).astype(int)\n",
    "test_output = np.array(test_df['A_GAUSSIAN_CLS']).astype(int)\n",
    "\n",
    "clf = LogisticRegression().fit(train_features, train_output)\n",
    "preds = clf.predict_proba(val_features)\n",
    "\n",
    "print('Amyloid Class')\n",
    "get_stats(val_output, preds)\n",
    "\n",
    "print('-----------')\n",
    "\n",
    "preds = clf.predict_proba(test_features)\n",
    "get_stats(test_output, preds)"
   ]
  },
  {
   "cell_type": "code",
   "execution_count": 12,
   "id": "32aa2c41",
   "metadata": {
    "ExecuteTime": {
     "end_time": "2022-07-18T22:16:18.477188Z",
     "start_time": "2022-07-18T22:16:18.406825Z"
    }
   },
   "outputs": [
    {
     "name": "stdout",
     "output_type": "stream",
     "text": [
      "Tau Class\n",
      "AUC: 0.7\n",
      "Acc: 0.8775510204081632\n",
      "PPV: 0.8666666666666667\n",
      "NPV: 1.0\n",
      "Sens: 1.0\n",
      "Spec: 0.4\n",
      "-----------\n",
      "AUC: 0.5384615384615384\n",
      "Acc: 0.8888888888888888\n",
      "PPV: 0.8878504672897196\n",
      "NPV: 1.0\n",
      "Sens: 1.0\n",
      "Spec: 0.07692307692307693\n"
     ]
    }
   ],
   "source": [
    "# Tau\n",
    "\n",
    "# Load labels from .csv file\n",
    "tau_train_df = pd.read_csv(csv_dir + '/generated/T_train_complete_updated_gaussian.csv')\n",
    "tau_val_df = pd.read_csv(csv_dir + '/generated/T_val_complete_updated_gaussian.csv')\n",
    "tau_test_df = pd.read_csv(csv_dir + '/generated/T_test_complete_updated_gaussian.csv')\n",
    "\n",
    "train_features = np.array(tau_train_df.loc[:, biomarker_cols])\n",
    "val_features = np.array(tau_val_df.loc[:, biomarker_cols])\n",
    "test_features = np.array(tau_test_df.loc[:, biomarker_cols])\n",
    "\n",
    "train_output = np.array(tau_train_df['T_GAUSSIAN_CLS']).astype(int)\n",
    "val_output = np.array(tau_val_df['T_GAUSSIAN_CLS']).astype(int)\n",
    "test_output = np.array(tau_test_df['T_GAUSSIAN_CLS']).astype(int)\n",
    "\n",
    "clf = LogisticRegression().fit(train_features, train_output)\n",
    "preds = clf.predict_proba(val_features)\n",
    "\n",
    "print('Tau Class')\n",
    "get_stats(val_output, preds)\n",
    "\n",
    "print('-----------')\n",
    "\n",
    "preds = clf.predict_proba(test_features)\n",
    "get_stats(test_output, preds)"
   ]
  },
  {
   "cell_type": "code",
   "execution_count": 11,
   "id": "534fa80e",
   "metadata": {
    "ExecuteTime": {
     "end_time": "2022-07-18T22:16:17.394730Z",
     "start_time": "2022-07-18T22:16:17.223744Z"
    }
   },
   "outputs": [
    {
     "name": "stdout",
     "output_type": "stream",
     "text": [
      "N Class\n",
      "AUC: 0.7043650793650794\n",
      "Acc: 0.7285714285714285\n",
      "PPV: 0.6901408450704225\n",
      "NPV: 0.7482014388489209\n",
      "Sens: 0.5833333333333334\n",
      "Spec: 0.8253968253968254\n",
      "-----------\n",
      "AUC: 0.7560544280727767\n",
      "Acc: 0.7728155339805826\n",
      "PPV: 0.7790055248618785\n",
      "NPV: 0.7694610778443114\n",
      "Sens: 0.6467889908256881\n",
      "Spec: 0.8653198653198653\n"
     ]
    }
   ],
   "source": [
    "# N\n",
    "\n",
    "# Load labels from .csv file\n",
    "N_train_df = pd.read_csv(csv_dir + '/generated/N_train_complete_updated_gaussian.csv')\n",
    "N_val_df = pd.read_csv(csv_dir + '/generated/N_val_complete_updated_gaussian.csv')\n",
    "N_test_df = pd.read_csv(csv_dir + '/generated/N_test_complete_updated_gaussian.csv')\n",
    "\n",
    "train_features = np.array(N_train_df.loc[:, biomarker_cols])\n",
    "val_features = np.array(N_val_df.loc[:, biomarker_cols])\n",
    "test_features = np.array(N_test_df.loc[:, biomarker_cols])\n",
    "\n",
    "train_output = np.array(N_train_df['N_GAUSSIAN_CLS']).astype(int)\n",
    "val_output = np.array(N_val_df['N_GAUSSIAN_CLS']).astype(int)\n",
    "test_output = np.array(N_test_df['N_GAUSSIAN_CLS']).astype(int)\n",
    "\n",
    "clf = LogisticRegression().fit(train_features, train_output)\n",
    "preds = clf.predict_proba(val_features)\n",
    "\n",
    "print('N Class')\n",
    "get_stats(val_output, preds)\n",
    "\n",
    "print('-----------')\n",
    "\n",
    "preds = clf.predict_proba(test_features)\n",
    "get_stats(test_output, preds)"
   ]
  }
 ],
 "metadata": {
  "kernelspec": {
   "display_name": "Python 3",
   "language": "python",
   "name": "python3"
  },
  "language_info": {
   "codemirror_mode": {
    "name": "ipython",
    "version": 3
   },
   "file_extension": ".py",
   "mimetype": "text/x-python",
   "name": "python",
   "nbconvert_exporter": "python",
   "pygments_lexer": "ipython3",
   "version": "3.6.9"
  },
  "toc": {
   "base_numbering": 1,
   "nav_menu": {},
   "number_sections": true,
   "sideBar": true,
   "skip_h1_title": false,
   "title_cell": "Table of Contents",
   "title_sidebar": "Contents",
   "toc_cell": false,
   "toc_position": {},
   "toc_section_display": true,
   "toc_window_display": false
  },
  "varInspector": {
   "cols": {
    "lenName": 16,
    "lenType": 16,
    "lenVar": 40
   },
   "kernels_config": {
    "python": {
     "delete_cmd_postfix": "",
     "delete_cmd_prefix": "del ",
     "library": "var_list.py",
     "varRefreshCmd": "print(var_dic_list())"
    },
    "r": {
     "delete_cmd_postfix": ") ",
     "delete_cmd_prefix": "rm(",
     "library": "var_list.r",
     "varRefreshCmd": "cat(var_dic_list()) "
    }
   },
   "types_to_exclude": [
    "module",
    "function",
    "builtin_function_or_method",
    "instance",
    "_Feature"
   ],
   "window_display": false
  }
 },
 "nbformat": 4,
 "nbformat_minor": 5
}
