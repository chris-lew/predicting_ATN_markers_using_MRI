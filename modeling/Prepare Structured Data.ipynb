{
 "cells": [
  {
   "cell_type": "code",
   "execution_count": 6,
   "id": "acedf6e0",
   "metadata": {
    "ExecuteTime": {
     "end_time": "2022-02-23T01:38:35.881338Z",
     "start_time": "2022-02-23T01:38:35.876915Z"
    }
   },
   "outputs": [],
   "source": [
    "import pandas as pd\n",
    "import numpy as np"
   ]
  },
  {
   "cell_type": "code",
   "execution_count": 7,
   "id": "167b77e9",
   "metadata": {
    "ExecuteTime": {
     "end_time": "2022-02-23T01:38:35.912243Z",
     "start_time": "2022-02-23T01:38:35.884390Z"
    }
   },
   "outputs": [],
   "source": [
    "A_train_more = pd.read_csv('../csv/generated/A_train_label_more_features.csv')\n",
    "A_val_more = pd.read_csv('../csv/generated/A_val_label_more_features.csv')"
   ]
  },
  {
   "cell_type": "code",
   "execution_count": 16,
   "id": "b8a2a251",
   "metadata": {
    "ExecuteTime": {
     "end_time": "2022-02-23T01:41:49.845416Z",
     "start_time": "2022-02-23T01:41:49.829255Z"
    }
   },
   "outputs": [],
   "source": [
    "def create_modeling_df(\n",
    "    df,\n",
    "    nfl_df,\n",
    "    train=True,\n",
    "    hippo_tuple=None):\n",
    "    \n",
    "    df = df.drop(['Unnamed: 0', 'Unnamed: 0.1'], axis=1)\n",
    "    df['RID'] = df['Subject ID'].str.split('_').str[-1].str.lstrip('0')\n",
    "    \n",
    "    # Rename some amyloid columns so they are clearer\n",
    "    df = df.rename(columns={'WCN':'amyloid_WCN', 'CLS':'amyloid_CLS'})\n",
    "    \n",
    "    # Hippocampal volumes\n",
    "    ucb = pd.read_csv('../csv/original/UCBERKELEYAV45_01-12-2021.csv')\n",
    "    ucb = ucb.loc[:, ['RID', 'EXAMDATE', 'LEFT_HIPPOCAMPUS_VOLUME', 'RIGHT_HIPPOCAMPUS_VOLUME']]\n",
    "    ucb['RID'] = ucb['RID'].astype('str')\n",
    "\n",
    "    merged_df = pd.merge(\n",
    "        df,\n",
    "        ucb.loc[:, ['RID', 'EXAMDATE', 'LEFT_HIPPOCAMPUS_VOLUME', 'RIGHT_HIPPOCAMPUS_VOLUME']],\n",
    "        left_on=['RID', 'PET Date'],\n",
    "        right_on=['RID', 'EXAMDATE'],\n",
    "        how='left'\n",
    "    )\n",
    "    \n",
    "    if train:\n",
    "        L_min = merged_df['LEFT_HIPPOCAMPUS_VOLUME'].min()\n",
    "        L_max = merged_df['LEFT_HIPPOCAMPUS_VOLUME'].max()\n",
    "        R_min = merged_df['RIGHT_HIPPOCAMPUS_VOLUME'].min()\n",
    "        R_max = merged_df['RIGHT_HIPPOCAMPUS_VOLUME'].max()\n",
    "        \n",
    "        merged_df['LEFT_HIPPOCAMPUS_VOLUME'] = \\\n",
    "            (merged_df['LEFT_HIPPOCAMPUS_VOLUME'] - L_min)/ L_max\n",
    "        merged_df['RIGHT_HIPPOCAMPUS_VOLUME'] = \\\n",
    "            (merged_df['RIGHT_HIPPOCAMPUS_VOLUME'] - R_min)/ R_max\n",
    "        \n",
    "    else:\n",
    "        L_min = 0\n",
    "        L_max = 0\n",
    "        R_min = 0\n",
    "        R_max = 0\n",
    "        \n",
    "        merged_df['LEFT_HIPPOCAMPUS_VOLUME'] = \\\n",
    "            (merged_df['LEFT_HIPPOCAMPUS_VOLUME'] - hippo_tuple[0])/ hippo_tuple[1]\n",
    "        merged_df['RIGHT_HIPPOCAMPUS_VOLUME'] = \\\n",
    "            (merged_df['RIGHT_HIPPOCAMPUS_VOLUME'] - hippo_tuple[2])/ hippo_tuple[3]\n",
    "    \n",
    "    merged_df = merged_df.drop(['RID', 'EXAMDATE'], axis=1)\n",
    "    \n",
    "    \n",
    "    # Research groups\n",
    "    nfl_df = nfl_df.loc[:, ['Subject ID', 'MRI Image ID (Original)', 'MMSE Total Score', 'Research Group', 'ADAS13', 'PLASMA_NFL', 'NFL_CLASS']]\n",
    "    \n",
    "    merged_df = pd.merge(\n",
    "        merged_df,\n",
    "        nfl_df,\n",
    "        on=['MRI Image ID (Original)'],\n",
    "        how='left'\n",
    "    )\n",
    "    merged_df = merged_df.drop(['Subject ID_y'], axis=1)\n",
    "    merged_df = merged_df.rename(columns={'Subject ID_x':'Subject ID'})\n",
    "    \n",
    "    # Get dummies for research group\n",
    "    dummies = pd.get_dummies(merged_df['Research Group'])\n",
    "    \n",
    "    merged_df = pd.concat([merged_df, dummies], axis=1)\n",
    "\n",
    "    \n",
    "    return merged_df, (L_min, L_max, R_min, R_max)"
   ]
  },
  {
   "cell_type": "code",
   "execution_count": 17,
   "id": "e9f6127b",
   "metadata": {
    "ExecuteTime": {
     "end_time": "2022-02-23T01:41:51.855740Z",
     "start_time": "2022-02-23T01:41:51.323550Z"
    }
   },
   "outputs": [],
   "source": [
    "A_train_complete, hippo_tuple = create_modeling_df(\n",
    "    A_train_more, \n",
    "    A_train_nfl\n",
    ")\n",
    "\n",
    "A_val_complete, _ = create_modeling_df(\n",
    "    A_val_more, \n",
    "    A_val_nfl,\n",
    "    train=False,\n",
    "    hippo_tuple = hippo_tuple\n",
    ")\n",
    "\n",
    "# This one is for predicting MMSE and ADAS13 since they are not yet imputed or have the median\n",
    "A_train_complete.to_csv('../csv/generated/A_train_complete_for_mmse_adas13.csv', index=False)\n",
    "A_val_complete.to_csv('../csv/generated/A_val_complete_for_mmse_adas13.csv', index=False)"
   ]
  },
  {
   "cell_type": "code",
   "execution_count": 20,
   "id": "27e69557",
   "metadata": {
    "ExecuteTime": {
     "end_time": "2022-02-23T01:43:36.279995Z",
     "start_time": "2022-02-23T01:43:35.983215Z"
    }
   },
   "outputs": [],
   "source": [
    "# Now we need to impute and normalize\n",
    "\n",
    "mmse_median = np.median(np.array(A_train_complete['MMSE Total Score'].dropna()))\n",
    "adas13_median = np.median(np.array(A_train_complete['ADAS13'].dropna()))\n",
    "\n",
    "A_train_complete['MMSE Total Score'] = A_train_complete['MMSE Total Score'].fillna(mmse_median)\n",
    "A_val_complete['MMSE Total Score'] = A_val_complete['MMSE Total Score'].fillna(mmse_median)\n",
    "\n",
    "mmse_min = A_train_complete['MMSE Total Score'].min()\n",
    "mmse_max = A_train_complete['MMSE Total Score'].max()\n",
    "\n",
    "A_train_complete['MMSE Total Score'] = (A_train_complete['MMSE Total Score'] - mmse_min)/mmse_max\n",
    "\n",
    "A_train_complete['ADAS13'] = A_train_complete['ADAS13'].fillna(mmse_median)\n",
    "A_val_complete['ADAS13'] = A_val_complete['ADAS13'].fillna(mmse_median)\n",
    "\n",
    "adas_min = A_train_complete['ADAS13'].min()\n",
    "adas_max = A_train_complete['ADAS13'].max()\n",
    "\n",
    "A_train_complete['ADAS13'] = (A_train_complete['ADAS13'] - adas_min)/adas_max\n",
    "\n",
    "# This one is for predicting MMSE and ADAS13 since they are not yet imputed or have the median\n",
    "A_train_complete.to_csv('../csv/generated/A_train_complete.csv', index=False)\n",
    "A_val_complete.to_csv('../csv/generated/A_val_complete.csv', index=False)"
   ]
  },
  {
   "cell_type": "code",
   "execution_count": 24,
   "id": "dd52a5e2",
   "metadata": {
    "ExecuteTime": {
     "end_time": "2022-02-23T01:47:03.639089Z",
     "start_time": "2022-02-23T01:47:03.632923Z"
    }
   },
   "outputs": [
    {
     "data": {
      "text/plain": [
       "Index(['Subject ID', 'MRI Date', 'PET Date', 'PET Type', 'Interval (day)',\n",
       "       'MRI Image ID (Original)', 'PET Image ID (Standardized)',\n",
       "       'PET Manufacturer', 'amyloid_WCN', 'amyloid_CLS', 'Image ID', 'Age',\n",
       "       'Sex_F', 'Sex_M', 'APOE A1_2', 'APOE A1_3', 'APOE A1_4', 'APOE A2_2',\n",
       "       'APOE A2_3', 'APOE A2_4', 'LEFT_HIPPOCAMPUS_VOLUME',\n",
       "       'RIGHT_HIPPOCAMPUS_VOLUME', 'MMSE Total Score', 'Research Group',\n",
       "       'ADAS13', 'PLASMA_NFL', 'NFL_CLASS', 'AD', 'CN', 'EMCI', 'LMCI', 'MCI',\n",
       "       'SMC'],\n",
       "      dtype='object')"
      ]
     },
     "execution_count": 24,
     "metadata": {},
     "output_type": "execute_result"
    }
   ],
   "source": [
    "A_train_complete.columns"
   ]
  },
  {
   "cell_type": "code",
   "execution_count": null,
   "id": "ede56103",
   "metadata": {
    "ExecuteTime": {
     "end_time": "2022-02-23T01:47:54.737426Z",
     "start_time": "2022-02-23T01:47:54.694532Z"
    },
    "scrolled": false
   },
   "outputs": [],
   "source": [
    "feature_cols = [\n",
    "    'Age',\n",
    "    'Sex_F', \n",
    "    'Sex_M',\n",
    "    'APOE A1_2', \n",
    "    'APOE A1_3', \n",
    "    'APOE A1_4', \n",
    "    'APOE A2_2',\n",
    "    'APOE A2_3', \n",
    "    'APOE A2_4', \n",
    "    'LEFT_HIPPOCAMPUS_VOLUME',\n",
    "    'RIGHT_HIPPOCAMPUS_VOLUME', \n",
    "    'MMSE Total Score',\n",
    "    'ADAS13',\n",
    "    'AD', \n",
    "    'CN', \n",
    "    'EMCI', \n",
    "    'LMCI', \n",
    "    'MCI',\n",
    "    'SMC'\n",
    "]\n",
    "\n",
    "print(len(feature_cols))\n",
    "\n",
    "with pd.option_context('display.max_columns', None):\n",
    "    display(A_train_complete)"
   ]
  }
 ],
 "metadata": {
  "kernelspec": {
   "display_name": "Python 3",
   "language": "python",
   "name": "python3"
  },
  "language_info": {
   "codemirror_mode": {
    "name": "ipython",
    "version": 3
   },
   "file_extension": ".py",
   "mimetype": "text/x-python",
   "name": "python",
   "nbconvert_exporter": "python",
   "pygments_lexer": "ipython3",
   "version": "3.6.9"
  },
  "toc": {
   "base_numbering": 1,
   "nav_menu": {},
   "number_sections": true,
   "sideBar": true,
   "skip_h1_title": false,
   "title_cell": "Table of Contents",
   "title_sidebar": "Contents",
   "toc_cell": false,
   "toc_position": {},
   "toc_section_display": true,
   "toc_window_display": false
  },
  "varInspector": {
   "cols": {
    "lenName": 16,
    "lenType": 16,
    "lenVar": 40
   },
   "kernels_config": {
    "python": {
     "delete_cmd_postfix": "",
     "delete_cmd_prefix": "del ",
     "library": "var_list.py",
     "varRefreshCmd": "print(var_dic_list())"
    },
    "r": {
     "delete_cmd_postfix": ") ",
     "delete_cmd_prefix": "rm(",
     "library": "var_list.r",
     "varRefreshCmd": "cat(var_dic_list()) "
    }
   },
   "types_to_exclude": [
    "module",
    "function",
    "builtin_function_or_method",
    "instance",
    "_Feature"
   ],
   "window_display": false
  }
 },
 "nbformat": 4,
 "nbformat_minor": 5
}
